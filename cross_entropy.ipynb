{
 "cells": [
  {
   "cell_type": "markdown",
   "metadata": {},
   "source": [
    "### Here, we are learning cross_entropy in classification from scratch."
   ]
  },
  {
   "cell_type": "code",
   "execution_count": 9,
   "metadata": {},
   "outputs": [],
   "source": [
    "import math\n",
    "import numpy as np"
   ]
  },
  {
   "cell_type": "code",
   "execution_count": 4,
   "metadata": {},
   "outputs": [
    {
     "name": "stdout",
     "output_type": "stream",
     "text": [
      "0.35667494393873245\n"
     ]
    }
   ],
   "source": [
    "#suppose below is the output:\n",
    "softmax_output = [0.7, 0.1, 0.2]\n",
    "\n",
    "#target value\n",
    "target_output = [1, 0, 0]\n",
    "\n",
    "#calculating loss : -sum(yi,j * log(ypred i, j))\n",
    "loss = -(math.log(softmax_output[0])* target_output[0] + math.log(softmax_output[1]) * target_output[1] + math.log(softmax_output[2]) * target_output[2])\n",
    "\n",
    "print(loss)"
   ]
  },
  {
   "cell_type": "code",
   "execution_count": 6,
   "metadata": {},
   "outputs": [
    {
     "name": "stdout",
     "output_type": "stream",
     "text": [
      "0.35667494393873245\n"
     ]
    }
   ],
   "source": [
    "#with one hot target vectors - assuming output's highest value's target output to be 1 and rest's target output to be 0 \n",
    "\n",
    "loss = -math.log(softmax_output[0]) * target_output[0]\n",
    "print(loss)"
   ]
  },
  {
   "cell_type": "code",
   "execution_count": 18,
   "metadata": {},
   "outputs": [
    {
     "name": "stdout",
     "output_type": "stream",
     "text": [
      "[0.7 0.5 0.9]\n",
      "The negative loss is : \n",
      " [0.35667494 0.69314718 0.10536052]\n",
      "The average loss is : \n",
      " 0.38506088005216804\n"
     ]
    }
   ],
   "source": [
    "\"\"\"#Assume 3 scenario:\n",
    "Neural Network that performs classification between 3 classes and Neural Network classifies in batch of 3.\n",
    "to calculate categorical cross entropy(negative loss): we need to know target value.\n",
    "Here out motive is to find the confidence at each batch and find the loss and average loss\n",
    "\"\"\"\n",
    "outputs = np.array([\n",
    "    [0.7, 0.1, 0.2],\n",
    "    [0.1, 0.5, 0.4],\n",
    "    [0.02, 0.9, 0.08]\n",
    "])\n",
    "#Let three class: [0, 1, 1] correspond to [dog, cat, human]\n",
    "class_target = [0, 1, 1]\n",
    "\n",
    "print(outputs[range(len(outputs)), class_target]) #This returns a list of the confidences at the target indices for each of the samples\n",
    "\n",
    "#applying negative log\n",
    "neg_loss = -np.log(outputs[range(len(outputs)), class_target])\n",
    "\n",
    "#now finding the average loss per batch\n",
    "avg_loss = np.mean(neg_loss)\n",
    "print(\"The negative loss is : \\n\",neg_loss)\n",
    "print(\"The average loss is : \\n\", avg_loss)\n"
   ]
  }
 ],
 "metadata": {
  "kernelspec": {
   "display_name": "Python 3",
   "language": "python",
   "name": "python3"
  },
  "language_info": {
   "codemirror_mode": {
    "name": "ipython",
    "version": 3
   },
   "file_extension": ".py",
   "mimetype": "text/x-python",
   "name": "python",
   "nbconvert_exporter": "python",
   "pygments_lexer": "ipython3",
   "version": "3.11.4"
  },
  "orig_nbformat": 4
 },
 "nbformat": 4,
 "nbformat_minor": 2
}
